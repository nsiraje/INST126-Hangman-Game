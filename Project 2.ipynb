{
 "cells": [
  {
   "cell_type": "code",
   "execution_count": 104,
   "metadata": {},
   "outputs": [
    {
     "name": "stdout",
     "output_type": "stream",
     "text": [
      "The words has 3 letters\n",
      "_ _ _ \n",
      "=================\n",
      "Guess an upper case letter: C\n",
      "Wrong! You have 9 incorrect guesses left! \n",
      "=================\n",
      "Guess an upper case letter: N\n",
      "Wrong! You have 8 incorrect guesses left! \n",
      "=================\n",
      "Guess an upper case letter: P\n",
      "Wrong! You have 7 incorrect guesses left! \n",
      "=================\n",
      "Guess an upper case letter: R\n",
      "Wrong! You have 6 incorrect guesses left! \n",
      "=================\n",
      "Guess an upper case letter: A\n",
      "Wrong! You have 5 incorrect guesses left! \n",
      "=================\n",
      "Guess an upper case letter: E\n",
      "Wrong! You have 4 incorrect guesses left! \n",
      "=================\n",
      "Guess an upper case letter: B\n",
      "Wrong! You have 3 incorrect guesses left! \n",
      "=================\n",
      "Guess an upper case letter: Z\n",
      "Wrong! You have 2 incorrect guesses left! \n",
      "=================\n",
      "Guess an upper case letter: K\n",
      "Wrong! You have 1 incorrect guesses left! \n",
      "=================\n",
      "Guess an upper case letter: H\n",
      "Correct!\n",
      "_ H _ \n",
      "=================\n",
      "Guess an upper case letter: S\n",
      "Wrong! You have 0 incorrect guesses left! \n",
      "YOU LOSE. I picked XHO\n"
     ]
    }
   ],
   "source": [
    "\n",
    "words = ['WHDSPQZ', 'XHO', 'TTDBFRT', 'QQJYF', 'ENQD', 'DNPK', 'CNTR', 'EHWHOD', 'SVMOHOF', 'XNOCFQGTM']\n",
    "picked = random.choice(words) #created a variable to pick a random word from the list each time\n",
    "print('The words has', len(picked), 'letters') #it will tell the user how many letters the word has \n",
    "turns = 10 #The user will have 10 incorrect guesses before the game ends\n",
    "right = ['_']* len(picked) # stores the list of letters from the random word that is correct on top of the appropriate multiplied by the length of the picked word by python \n",
    "wrong = []#Stores the list of wrong input letters from the user\n",
    "def main(): #defining the function\n",
    "    for i in right: #for I in the \"right\" list,\n",
    "        print(i, end = ' ')#print/add i(letter) within parenthesis \n",
    "    print() #print space\n",
    "main() #calls function\n",
    "    \n",
    "while True: #iterates for each line that, \n",
    "    print('=================') #this is used to create a line between each guess so that the user does not get confused with all of the outputs\n",
    "    guess = input ('Guess an upper case letter: ') #the user inputs a letter\n",
    "\n",
    "    if guess in picked: #If the letter is in the picked word,                           \n",
    "        index = 0 # index equals xero\n",
    "        for i in picked: #if letter is in picked word,\n",
    "            if i == guess: # and if the user guesses a correct letter, \n",
    "                right[index] = guess #it will be added to the \"right\" list and be shown in the correct order of the word on top of the dash,\n",
    "                print('Correct!')#and prints correct \n",
    "            index += 1 #if guess is correct, adds letter in order of the picked word   \n",
    "        main()#calling function\n",
    "    else: #or\n",
    "        if guess not in wrong: #If guess is in the \"wrong\" list,\n",
    "            turns -= 1 #subtract a turn from the user\n",
    "            wrong.append(guess) #adds wrong guessed word to \"wrong\" list\n",
    "            print('Wrong! You have',turns, 'incorrect guesses left! ' ) #this will tell users that their input was incorrect and how many turns they have left after their input\n",
    "        else:#else if the user has already guessed that letter,\n",
    "            print('You already guessed that')#it will tell the user that they have already guessed that letter\n",
    "            print(wrong)#prints the wrong list so far of all the inputs from user \n",
    "    if len(wrong) >= 10: #if amount of wrong letters inputed by the user is more than turns, \n",
    "        print('YOU LOSE. I picked' , picked)#it will print that the user lost and the word that the program picked from the list of words\n",
    "        break #after user loses, it will stop iterating\n",
    "    if '_' not in right:#if user finds all words in 'right' list \n",
    "        print('You Win!')#tells user they won\n",
    "        print('That was an encrypted word.') #tells user the word was encrypted \n",
    "        print('The decrypted word is '+ decrypt(picked))#tells user the decrypted word from the picked word that round\n",
    "        break #will stop iterating after user wins\n",
    "        "
   ]
  },
  {
   "cell_type": "code",
   "execution_count": 89,
   "metadata": {
    "scrolled": true
   },
   "outputs": [],
   "source": [
    "\n",
    "def decrypt(ciphertext):\n",
    "    plaintext = ''\n",
    "    for i in range (0, len(ciphertext)): #For i in range starting from 0 till the length of the cyphertext,\n",
    "        if i % 2 ==0:#if i returns the remainder after divising i by 2, \n",
    "            plain_ascii = ciphertext[i] #plain_ascii equals the  i count of ciphertext\n",
    "            cipher_ascii = ord(plain_ascii)-1 #and that cypher_ascii equals the unicode of plain_ascii minus one\n",
    "            plaintext = plaintext + str(chr(cipher_ascii))#and plaintext equals plaintext plus the character of the unicode of cipher_ascii\n",
    "        else:#if not,\n",
    "            plain_ascii = ciphertext[i]#plain_ascii equals the  i count of ciphertext\n",
    "            cipher_ascii = ord(plain_ascii)+1 #and that cypher_ascii equals the unicode of plain_ascii plus one\n",
    "            plaintext = plaintext + str(chr(cipher_ascii))#and plaintext equals plaintext plus the character of the unicode of cipher_ascii\n",
    "    return plaintext"
   ]
  }
 ],
 "metadata": {
  "kernelspec": {
   "display_name": "Python 3",
   "language": "python",
   "name": "python3"
  },
  "language_info": {
   "codemirror_mode": {
    "name": "ipython",
    "version": 3
   },
   "file_extension": ".py",
   "mimetype": "text/x-python",
   "name": "python",
   "nbconvert_exporter": "python",
   "pygments_lexer": "ipython3",
   "version": "3.8.5"
  }
 },
 "nbformat": 4,
 "nbformat_minor": 4
}
